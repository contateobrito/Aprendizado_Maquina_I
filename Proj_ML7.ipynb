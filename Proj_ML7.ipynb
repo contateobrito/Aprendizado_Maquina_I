{
  "nbformat": 4,
  "nbformat_minor": 0,
  "metadata": {
    "kernelspec": {
      "display_name": "Python 3",
      "language": "python",
      "name": "python3"
    },
    "language_info": {
      "codemirror_mode": {
        "name": "ipython",
        "version": 3
      },
      "file_extension": ".py",
      "mimetype": "text/x-python",
      "name": "python",
      "nbconvert_exporter": "python",
      "pygments_lexer": "ipython3",
      "version": "3.7.4"
    },
    "colab": {
      "provenance": [],
      "include_colab_link": true
    }
  },
  "cells": [
    {
      "cell_type": "markdown",
      "metadata": {
        "id": "view-in-github",
        "colab_type": "text"
      },
      "source": [
        "<a href=\"https://colab.research.google.com/github/contateobrito/Aprendizado_Maquina_I/blob/main/Proj_ML7.ipynb\" target=\"_parent\"><img src=\"https://colab.research.google.com/assets/colab-badge.svg\" alt=\"Open In Colab\"/></a>"
      ]
    },
    {
      "cell_type": "markdown",
      "metadata": {
        "id": "40b90843"
      },
      "source": [
        "<img src=\"http://meusite.mackenzie.br/rogerio/mackenzie_logo/UPM.2_horizontal_vermelho.jpg\"  width=300, align=\"right\">\n",
        "<br>\n",
        "<br>\n",
        "<br>\n",
        "<br>\n",
        "<br>\n",
        "\n",
        "# *** Dados de desaparecidos no RJ de 2014 a 2024 ***\n",
        "---"
      ]
    },
    {
      "cell_type": "markdown",
      "source": [
        "$\\rightarrow$ **esta célula deve ser removida na entrega do projeto**\n",
        "\n",
        "# Objetivo\n",
        "\n",
        "Neste trabalho você deve obrigatoriamente trabalhar em grupo de 2-4 alunos e desenvolver uma solução de aprendizado supervisionado para algum problema de interesse do grupo. Os problemas poderão ser de classificação ou de regressão.\n",
        "\n",
        "## Descrição do Projeto\n",
        "\n",
        "O trabalho deve ser original e desenvolvido em R ou Python notebook com um conjunto de dados próprios e originais definidos. Entendam como dados próprios e originais dados que são originais de empresas ou entidades, podendo ser bases públicas. Dados de ONGs, empresas privadas ou governo, são exemplos de bases válidas. Bases de repositórios públicos como Kaggle e UCI, que fornecem bases prontas não são originais. Tenha em mente: você deve construir uma base de dados nova para o seu problema, é essa a ideia de dados originais. Se tiver dúvidas consulte o professor antes de empregar uma base.\n",
        "\n",
        "Os dados devem suportar um problema relevante e adequado para o aprendizado supervisionado. Assim, não podem ser empregadas bases artificiais e problemas muito simples. Devem ser evitadas também Séries Temporais como séries financeiras (como ações) e de dados climáticos que requerem outras técnicas não detalhadas aqui.\n",
        "\n",
        "As bases devem conter um mínimo de 1000 instâncias. Consulte o professor para uso de um número menor de instâncias para dados próprios de uma empresa por exemplo.\n",
        "\n",
        "Você deve implementar ao menos dois modelos, comparar e discutir os seus resultados. Seu notebook deve ser 100% executável e incluir todo necessário para construção dos dados, entendimento do problema e da solução.\n",
        "\n",
        "Deve ainda ser entregue uma apresentação em **vídeo (até 5min)** dos resultados.\n",
        "\n"
      ],
      "metadata": {
        "id": "ZSUH3FNWWOsh"
      }
    },
    {
      "cell_type": "markdown",
      "source": [
        "$\\rightarrow$ **esta célula deve ser removida na entrega do projeto**\n",
        "\n",
        "Siga este template para entrega do seu projeto. O código deste notebook precisa ser 100% executável, sem a necessidade de qualquer operação adicional como por exemplo a download, cópia ou alteração de arquivos. Crie assim repositórios públicos para suas bases de dados, por exemplo, disponibilizando-as no GitHub.\n",
        "\n",
        "## Entregas na Tarefa do Moodle\n",
        "\n",
        "1. Poste este Python notebook (.ipynb) modificado com o seu projeto.\n",
        "2. Poste o endereço (link) do Python notebook do seu projeto compartilhado (público para leitura) nos comentários da tarefa\n",
        "3. Um vídeo de até 5min com a apresentação do seu projeto em formato .mp4\n",
        "4. Opcional, poste o .pptx da apresentação\n",
        "\n",
        "## Vídeo\n",
        "\n",
        "O vídeo deve contemplar:\n",
        "\n",
        "1. Apresentação e Justificativa do seu problema\n",
        "2. A abordagem dada ao problema (fonte dos dados, transformações, modelos avaliados)\n",
        "3. A solução e seus resultados\n",
        "4. Diferenciais e Melhorias Futuras do trabalho (modelos e técnicas diferenciadas que foram empregadas, limitações do modelo atual e como melhora-las etc.)\n",
        "\n",
        "\n",
        "\n",
        "\n",
        "\n"
      ],
      "metadata": {
        "id": "Ikv-pBzr9bNu"
      }
    },
    {
      "cell_type": "code",
      "metadata": {
        "id": "rYx9D4GZA5o9"
      },
      "source": [
        "#@title Identificação do Grupo\n",
        "\n",
        "#@markdown Integrantes do Grupo (*informe \\<TIA\\>,\\<nome\\>*)\n",
        "Aluno1 = '10415882, Danilo Brito da Silva' #@param {type:\"string\"}\n",
        "Aluno2 = '10274779, Tiago Ueda' #@param {type:\"string\"}\n",
        "Aluno3 = 'None' #@param {type:\"string\"}\n",
        "Aluno4 = 'None' #@param {type:\"string\"}\n",
        "Aluno5 = 'None' #@param {type:\"string\"}\n",
        "\n"
      ],
      "execution_count": null,
      "outputs": []
    },
    {
      "cell_type": "markdown",
      "source": [
        "# **Apresentação**"
      ],
      "metadata": {
        "id": "JlCIc2YooBW7"
      }
    },
    {
      "cell_type": "markdown",
      "metadata": {
        "id": "A4-f8AtfKAn2"
      },
      "source": [
        "# Problema\n",
        "\n",
        "Este estudo investiga os desaparecimentos de pessoas no Rio de Janeiro ao longo dos anos. Utilizamos um conjunto de dados contendo informações sobre as cidades, regiões, datas das ocorrências, número de pessoas desaparecidas e registros totais de crimes. Desenvolvemos modelos de regressão linear e Random Forest para entender e prever esses padrões. Os resultados destacam a relação entre o total de registros de crimes e o número de desaparecimentos. Este problema é relevante para a segurança pública e o bem-estar da população do Rio de Janeiro, buscando soluções proativas para mitigar esses eventos.\n",
        "\n"
      ]
    },
    {
      "cell_type": "markdown",
      "source": [
        "# Referencial Teórico\n",
        "\n",
        "Neste trabalho, empregamos a regressão linear, uma técnica estatística para modelar relações lineares entre variáveis, e o Random Forest, um algoritmo de aprendizado de máquina baseado em ensemble. Essas abordagens são fundamentais para compreender e prever os desaparecimentos de pessoas no estado do Rio de Janeiro. Nosso foco é aplicar esses métodos para entender os padrões desses eventos, contribuindo para soluções eficazes e proativas para esse problema social e de segurança pública."
      ],
      "metadata": {
        "id": "7LtXrRFr4hg3"
      }
    },
    {
      "cell_type": "markdown",
      "metadata": {
        "id": "7-pdJIiunIWL"
      },
      "source": [
        "# Metodologia\n",
        "\n",
        "Utilizamos um conjunto de dados que contém informações sobre desaparecimentos de pessoas no Rio de Janeiro. Realizamos pré-processamento para lidar com valores ausentes e codificar variáveis categóricas. Dividimos os dados em conjuntos de treinamento e teste. As variáveis preditoras incluem o total de registros de crimes no mês. Implementamos regressão linear e Random Forest Regressor para modelagem. O objetivo é entender e prever a quantidade de pessoas desaparecidas.\n",
        "\n"
      ]
    },
    {
      "cell_type": "markdown",
      "source": [
        "# Resultados\n",
        "\n",
        "Regressão Linear:  \n",
        "Erro Médio Quadrático (MSE): 21.217819486732502  \n",
        "Coeficiente de Determinação (R²): 0.9472512532429218  \n",
        "\n",
        "Random Forest Regressor:  \n",
        "Erro Médio Quadrático (MSE): 26.847897806686625  \n",
        "Coeficiente de Determinação (R²): 0.9332545475160455  \n",
        "\n",
        "Os resultados da análise indicam que ambos os modelos, Regressão Linear e Random Forest Regressor, são eficazes na previsão do número de pessoas desaparecidas com base nos registros de ocorrências. A Regressão Linear demonstrou uma precisão ligeiramente superior, com um Erro Médio Quadrático (MSE) menor e um Coeficiente de Determinação (R²) mais elevado em comparação ao Random Forest Regressor. Ambos os modelos explicam bem a variação na variável dependente, mas a Regressão Linear se destaca ligeiramente na precisão das previsões neste contexto específico."
      ],
      "metadata": {
        "id": "ZGpU-v6CnTaG"
      }
    },
    {
      "cell_type": "markdown",
      "source": [
        "# **Implementação**"
      ],
      "metadata": {
        "id": "caAD2jBEn0KM"
      }
    },
    {
      "cell_type": "markdown",
      "metadata": {
        "id": "xGFJyOm1Kdtd"
      },
      "source": [
        "# **Base de Dados**\n",
        "\n",
        "## **Descrição Geral**\n",
        "O dataset, [link](https://www.ispdados.rj.gov.br/estatistica.html), fornecido pela Secretaria de Segurança do Estado do Rio de Janeiro contém registros policiais do estado nos últimos 10 anos, de 2014 a 2024. Para o desenvolvimento deste projeto, focaremos especificamente nos relatos de desaparecimentos. As colunas selecionadas para a análise incluem data, município, região, ocorrências de desaparecimentos e o total de ocorrências.\n",
        "\n",
        "## **Colunas Selecionadas**\n",
        "**Data**: Data do registro policial.\n",
        "**Município**: Município onde o registro foi feito.  \n",
        "**Região**: Região do estado onde o município está localizado.  \n",
        "**Ocorrências de Desaparecidos**: Número de ocorrências de desaparecimentos registradas.  \n",
        "**Total de Ocorrências**: Número total de ocorrências registradas.  \n",
        "\n",
        "## **Análise Exploratória**\n",
        "Durante a análise exploratória, foram realizadas as seguintes etapas:\n",
        "\n",
        "**Filtragem de Dados**: Selecionamos apenas as colunas relevantes para o estudo dos desaparecimentos.  \n",
        "**Criação de Colunas Adicionais**:  \n",
        "Mês/Ano (mm/aaaa): Uma nova coluna foi criada para representar o mês e o ano do registro, facilitando a análise temporal.  \n",
        "\n",
        "## **Limpeza de Dados**\n",
        "Durante a análise exploratória, verificou-se que não houve necessidade de limpeza de dados, indicando que o dataset estava bem estruturado e sem inconsistências aparentes.\n",
        "\n",
        "\n"
      ]
    },
    {
      "cell_type": "code",
      "source": [
        "import numpy as np\n",
        "import seaborn as sns\n",
        "import pandas as pd\n",
        "import matplotlib.pyplot as plt\n",
        "from sklearn.model_selection import train_test_split\n",
        "from sklearn.linear_model import LinearRegression\n",
        "from sklearn.ensemble import RandomForestRegressor\n",
        "from sklearn.metrics import mean_squared_error, r2_score\n",
        "import pandas as pd"
      ],
      "metadata": {
        "id": "ceEcwf8G7VFl"
      },
      "execution_count": 10,
      "outputs": []
    },
    {
      "cell_type": "code",
      "source": [
        "# seu código# Leitura do arquivo CSV usando pandas\n",
        "url = \"https://raw.githubusercontent.com/contateobrito/Aprendizado_Maquina_I/main/Base.csv\"\n",
        "df = pd.read_csv(url, sep = \",\")\n",
        "\n",
        "# Suponha que df seja o seu DataFrame original com os dados\n",
        "df = df[[\"fmun\",\"ano\",\"mes\", \"pessoas_desaparecidas\", \"registro_ocorrencias\"]]\n",
        "\n",
        "# Tratamento inicial dos dados\n",
        "df['dia'] = 1\n",
        "df['data'] = pd.to_datetime(df['ano'].astype(str) + '/' + df['mes'].astype(str) + '/1')\n",
        "df = df.drop(columns=[\"ano\",\"mes\", \"dia\"])\n",
        "df = df[[\"fmun\",\"data\",\"pessoas_desaparecidas\",\"registro_ocorrencias\"]]\n",
        "df.rename(columns={\"fmun\":\"municipio\"}, inplace=True)"
      ],
      "metadata": {
        "id": "V_X2jqpl3UWA"
      },
      "execution_count": 18,
      "outputs": []
    },
    {
      "cell_type": "markdown",
      "source": [
        "## **Modelo 1**\n",
        "\n",
        "*Descreva resumidamente o modelo empregado.*\n"
      ],
      "metadata": {
        "id": "FGwyFHwtoO5m"
      }
    },
    {
      "cell_type": "markdown",
      "source": [
        "A regressão linear é uma técnica estatística que estabelece uma relação linear entre a variável dependente e as variáveis independentes, oferecendo uma compreensão direta das tendências nos dados. Sua simplicidade e interpretabilidade a tornam uma escolha adequada para capturar padrões simples nos desaparecimentos de pessoas no Rio de Janeiro ao longo do tempo"
      ],
      "metadata": {
        "id": "1iPlWmF7eXkf"
      }
    },
    {
      "cell_type": "markdown",
      "source": [
        "### **Modelo 1:** Preparação dos Dados\n"
      ],
      "metadata": {
        "id": "hXaglI6JoaJO"
      }
    },
    {
      "cell_type": "code",
      "source": [
        "# Dividir variáveis independentes e dependentes\n",
        "X = df[['registro_ocorrencias']]\n",
        "y = df['pessoas_desaparecidas']\n",
        "\n",
        "# Dividir dados em conjunto de treino e teste\n",
        "X_train, X_test, y_train, y_test = train_test_split(X, y, test_size=0.2, random_state=42)"
      ],
      "metadata": {
        "id": "-8gSVEHyoeLK"
      },
      "execution_count": 19,
      "outputs": []
    },
    {
      "cell_type": "markdown",
      "source": [
        "### **Modelo 1:** Modelo\n"
      ],
      "metadata": {
        "id": "VyE3YKdQotLc"
      }
    },
    {
      "cell_type": "code",
      "source": [
        "# Modelo 1: Regressão Linear\n",
        "model_linear = LinearRegression()\n",
        "model_linear.fit(X_train, y_train)\n",
        "\n",
        "# Fazer previsões no conjunto de teste para Regressão Linear\n",
        "y_pred_linear = model_linear.predict(X_test)\n",
        "\n",
        "# Calcular métricas para Regressão Linear\n",
        "mse_linear = mean_squared_error(y_test, y_pred_linear)\n",
        "r2_linear = r2_score(y_test, y_pred_linear)"
      ],
      "metadata": {
        "id": "a5YneTsaotLc"
      },
      "execution_count": 20,
      "outputs": []
    },
    {
      "cell_type": "markdown",
      "source": [
        "### **Modelo 1:** Resultados\n"
      ],
      "metadata": {
        "id": "SRw3t2NnotVI"
      }
    },
    {
      "cell_type": "markdown",
      "source": [
        "O modelo de regressão linear apresentou um coeficiente de determinação (R²) de X, indicando que X% da variabilidade na quantidade de pessoas desaparecidas pode ser explicada pelas variáveis independentes incluídas no modelo.\n",
        "O erro médio quadrático (MSE) foi de X, o que significa que, em média, nossas previsões estavam desviando X unidades da quantidade real de pessoas desaparecidas."
      ],
      "metadata": {
        "id": "xD5JIvVYe4ea"
      }
    },
    {
      "cell_type": "code",
      "source": [
        "# seu códig# Impressão dos resultados\n",
        "print(\"Regressão Linear:\")\n",
        "print(\"Erro Médio Quadrático (MSE):\", mse_linear)\n",
        "print(\"Coeficiente de Determinação (R^2):\", r2_linear)"
      ],
      "metadata": {
        "id": "kvwQvGDOotVI",
        "colab": {
          "base_uri": "https://localhost:8080/"
        },
        "outputId": "604ffa7f-714b-42db-e836-a723d8e8088c"
      },
      "execution_count": 21,
      "outputs": [
        {
          "output_type": "stream",
          "name": "stdout",
          "text": [
            "Regressão Linear:\n",
            "Erro Médio Quadrático (MSE): 21.21781948673189\n",
            "Coeficiente de Determinação (R^2): 0.9472512532429234\n"
          ]
        }
      ]
    },
    {
      "cell_type": "markdown",
      "source": [],
      "metadata": {
        "id": "wDcgbIame5YY"
      }
    },
    {
      "cell_type": "markdown",
      "source": [
        "## **Modelo 2**\n",
        "\n",
        "*Descreva resumidamente o modelo empregado.*\n"
      ],
      "metadata": {
        "id": "n6sOVE9jo_jq"
      }
    },
    {
      "cell_type": "markdown",
      "source": [
        "Random Forest Regressor é um algoritmo de aprendizado de máquina baseado em ensemble, que combina várias árvores de decisão para realizar previsões mais precisas. Sua capacidade de capturar relações não lineares e identificar padrões complexos nos dados o torna uma escolha valiosa para explorar nuances e tendências mais sutis nos desaparecimentos, complementando a abordagem linear."
      ],
      "metadata": {
        "id": "C6wYRN8TecOC"
      }
    },
    {
      "cell_type": "markdown",
      "source": [
        "### **Modelo 2:** Preparação dos Dados\n"
      ],
      "metadata": {
        "id": "lBW3929po_jr"
      }
    },
    {
      "cell_type": "code",
      "source": [
        "# seu código# Modelo 2: Random Forest Regressor\n",
        "model_rf = RandomForestRegressor()\n",
        "model_rf.fit(X_train, y_train)"
      ],
      "metadata": {
        "id": "VfJUfM16o_jr",
        "colab": {
          "base_uri": "https://localhost:8080/",
          "height": 75
        },
        "outputId": "e61dad67-8aed-486d-f819-2630ebe14902"
      },
      "execution_count": 23,
      "outputs": [
        {
          "output_type": "execute_result",
          "data": {
            "text/plain": [
              "RandomForestRegressor()"
            ],
            "text/html": [
              "<style>#sk-container-id-1 {color: black;background-color: white;}#sk-container-id-1 pre{padding: 0;}#sk-container-id-1 div.sk-toggleable {background-color: white;}#sk-container-id-1 label.sk-toggleable__label {cursor: pointer;display: block;width: 100%;margin-bottom: 0;padding: 0.3em;box-sizing: border-box;text-align: center;}#sk-container-id-1 label.sk-toggleable__label-arrow:before {content: \"▸\";float: left;margin-right: 0.25em;color: #696969;}#sk-container-id-1 label.sk-toggleable__label-arrow:hover:before {color: black;}#sk-container-id-1 div.sk-estimator:hover label.sk-toggleable__label-arrow:before {color: black;}#sk-container-id-1 div.sk-toggleable__content {max-height: 0;max-width: 0;overflow: hidden;text-align: left;background-color: #f0f8ff;}#sk-container-id-1 div.sk-toggleable__content pre {margin: 0.2em;color: black;border-radius: 0.25em;background-color: #f0f8ff;}#sk-container-id-1 input.sk-toggleable__control:checked~div.sk-toggleable__content {max-height: 200px;max-width: 100%;overflow: auto;}#sk-container-id-1 input.sk-toggleable__control:checked~label.sk-toggleable__label-arrow:before {content: \"▾\";}#sk-container-id-1 div.sk-estimator input.sk-toggleable__control:checked~label.sk-toggleable__label {background-color: #d4ebff;}#sk-container-id-1 div.sk-label input.sk-toggleable__control:checked~label.sk-toggleable__label {background-color: #d4ebff;}#sk-container-id-1 input.sk-hidden--visually {border: 0;clip: rect(1px 1px 1px 1px);clip: rect(1px, 1px, 1px, 1px);height: 1px;margin: -1px;overflow: hidden;padding: 0;position: absolute;width: 1px;}#sk-container-id-1 div.sk-estimator {font-family: monospace;background-color: #f0f8ff;border: 1px dotted black;border-radius: 0.25em;box-sizing: border-box;margin-bottom: 0.5em;}#sk-container-id-1 div.sk-estimator:hover {background-color: #d4ebff;}#sk-container-id-1 div.sk-parallel-item::after {content: \"\";width: 100%;border-bottom: 1px solid gray;flex-grow: 1;}#sk-container-id-1 div.sk-label:hover label.sk-toggleable__label {background-color: #d4ebff;}#sk-container-id-1 div.sk-serial::before {content: \"\";position: absolute;border-left: 1px solid gray;box-sizing: border-box;top: 0;bottom: 0;left: 50%;z-index: 0;}#sk-container-id-1 div.sk-serial {display: flex;flex-direction: column;align-items: center;background-color: white;padding-right: 0.2em;padding-left: 0.2em;position: relative;}#sk-container-id-1 div.sk-item {position: relative;z-index: 1;}#sk-container-id-1 div.sk-parallel {display: flex;align-items: stretch;justify-content: center;background-color: white;position: relative;}#sk-container-id-1 div.sk-item::before, #sk-container-id-1 div.sk-parallel-item::before {content: \"\";position: absolute;border-left: 1px solid gray;box-sizing: border-box;top: 0;bottom: 0;left: 50%;z-index: -1;}#sk-container-id-1 div.sk-parallel-item {display: flex;flex-direction: column;z-index: 1;position: relative;background-color: white;}#sk-container-id-1 div.sk-parallel-item:first-child::after {align-self: flex-end;width: 50%;}#sk-container-id-1 div.sk-parallel-item:last-child::after {align-self: flex-start;width: 50%;}#sk-container-id-1 div.sk-parallel-item:only-child::after {width: 0;}#sk-container-id-1 div.sk-dashed-wrapped {border: 1px dashed gray;margin: 0 0.4em 0.5em 0.4em;box-sizing: border-box;padding-bottom: 0.4em;background-color: white;}#sk-container-id-1 div.sk-label label {font-family: monospace;font-weight: bold;display: inline-block;line-height: 1.2em;}#sk-container-id-1 div.sk-label-container {text-align: center;}#sk-container-id-1 div.sk-container {/* jupyter's `normalize.less` sets `[hidden] { display: none; }` but bootstrap.min.css set `[hidden] { display: none !important; }` so we also need the `!important` here to be able to override the default hidden behavior on the sphinx rendered scikit-learn.org. See: https://github.com/scikit-learn/scikit-learn/issues/21755 */display: inline-block !important;position: relative;}#sk-container-id-1 div.sk-text-repr-fallback {display: none;}</style><div id=\"sk-container-id-1\" class=\"sk-top-container\"><div class=\"sk-text-repr-fallback\"><pre>RandomForestRegressor()</pre><b>In a Jupyter environment, please rerun this cell to show the HTML representation or trust the notebook. <br />On GitHub, the HTML representation is unable to render, please try loading this page with nbviewer.org.</b></div><div class=\"sk-container\" hidden><div class=\"sk-item\"><div class=\"sk-estimator sk-toggleable\"><input class=\"sk-toggleable__control sk-hidden--visually\" id=\"sk-estimator-id-1\" type=\"checkbox\" checked><label for=\"sk-estimator-id-1\" class=\"sk-toggleable__label sk-toggleable__label-arrow\">RandomForestRegressor</label><div class=\"sk-toggleable__content\"><pre>RandomForestRegressor()</pre></div></div></div></div></div>"
            ]
          },
          "metadata": {},
          "execution_count": 23
        }
      ]
    },
    {
      "cell_type": "markdown",
      "source": [
        "### **Modelo 2:** Modelo\n"
      ],
      "metadata": {
        "id": "z60H0esCo_jr"
      }
    },
    {
      "cell_type": "code",
      "source": [
        "# Fazer previsões no conjunto de teste para Random Forest Regressor\n",
        "y_pred_rf = model_rf.predict(X_test)\n",
        "\n",
        "# Calcular métricas para Random Forest Regressor\n",
        "mse_rf = mean_squared_error(y_test, y_pred_rf)\n",
        "r2_rf = r2_score(y_test, y_pred_rf)"
      ],
      "metadata": {
        "id": "GzbajY4fo_jr"
      },
      "execution_count": 24,
      "outputs": []
    },
    {
      "cell_type": "markdown",
      "source": [
        "### **Modelo 2:** Resultados\n"
      ],
      "metadata": {
        "id": "f66UTm3So_js"
      }
    },
    {
      "cell_type": "markdown",
      "source": [
        "O modelo Random Forest Regressor demonstrou um desempenho superior, com um R² de Y, indicando uma melhor capacidade de explicar a variabilidade nos dados em comparação com a regressão linear.\n",
        "O MSE foi de Y, o que sugere que as previsões do modelo Random Forest estavam, em média, desviando Y unidades da quantidade real de pessoas desaparecidas."
      ],
      "metadata": {
        "id": "qlheAR22e8sJ"
      }
    },
    {
      "cell_type": "code",
      "source": [
        "# seu códigoprint()\n",
        "print(\"Random Forest Regressor:\")\n",
        "print(\"Erro Médio Quadrático (MSE):\", mse_rf)\n",
        "print(\"Coeficiente de Determinação (R^2):\", r2_rf)"
      ],
      "metadata": {
        "id": "PJGbWBofo_jt",
        "colab": {
          "base_uri": "https://localhost:8080/"
        },
        "outputId": "3d67d86b-2abf-49a0-f100-c2d2fb4223ad"
      },
      "execution_count": 25,
      "outputs": [
        {
          "output_type": "stream",
          "name": "stdout",
          "text": [
            "Random Forest Regressor:\n",
            "Erro Médio Quadrático (MSE): 27.474375236519233\n",
            "Coeficiente de Determinação (R^2): 0.9316970877914056\n"
          ]
        }
      ]
    },
    {
      "cell_type": "markdown",
      "metadata": {
        "id": "9kwoGZeSLRsX"
      },
      "source": [
        "# **Conclusão**\n",
        "\n",
        "*Apresente a conclusão do seu estudo comparando ainda os resultados obtidos com o referencial teórico apresentado.*\n",
        "\n"
      ]
    },
    {
      "cell_type": "code",
      "source": [
        "# Impressão dos resultados\n",
        "print(\"Regressão Linear:\")\n",
        "print(\"Erro Médio Quadrático (MSE):\", mse_linear)\n",
        "print(\"Coeficiente de Determinação (R^2):\", r2_linear)\n",
        "print()\n",
        "print(\"Random Forest Regressor:\")\n",
        "print(\"Erro Médio Quadrático (MSE):\", mse_rf)\n",
        "print(\"Coeficiente de Determinação (R^2):\", r2_rf)\n",
        "\n",
        "# Plotagem dos resultados\n",
        "fig, axs = plt.subplots(1, 2, figsize=(16, 6))\n",
        "\n",
        "# Gráfico 1: Regressão Linear\n",
        "axs[0].scatter(X_test, y_test, color='red', label='Dados de Teste')\n",
        "axs[0].plot(X_test, y_pred_linear, color='blue', linewidth=2, label='Regressão Linear')\n",
        "axs[0].set_title('Regressão Linear: Registros de Ocorrências vs Pessoas Desaparecidas')\n",
        "axs[0].set_xlabel('Registros de Ocorrências')\n",
        "axs[0].set_ylabel('Pessoas Desaparecidas')\n",
        "axs[0].legend()\n",
        "axs[0].grid(True)\n",
        "\n",
        "# Gráfico 2: Random Forest Regressor\n",
        "axs[1].scatter(X_test, y_test, color='red', label='Dados de Teste')\n",
        "axs[1].scatter(X_test, y_pred_rf, color='green', marker='^', label='Random Forest Regressor')\n",
        "axs[1].set_title('Random Forest Regressor: Registros de Ocorrências vs Pessoas Desaparecidas')\n",
        "axs[1].set_xlabel('Registros de Ocorrências')\n",
        "axs[1].set_ylabel('Pessoas Desaparecidas')\n",
        "axs[1].legend()\n",
        "axs[1].grid(True)"
      ],
      "metadata": {
        "id": "lTtcMUyPgiIn",
        "colab": {
          "base_uri": "https://localhost:8080/",
          "height": 639
        },
        "outputId": "5874fcee-fc24-4e0b-ede0-bb84bc5f6442"
      },
      "execution_count": 26,
      "outputs": [
        {
          "output_type": "stream",
          "name": "stdout",
          "text": [
            "Regressão Linear:\n",
            "Erro Médio Quadrático (MSE): 21.21781948673189\n",
            "Coeficiente de Determinação (R^2): 0.9472512532429234\n",
            "\n",
            "Random Forest Regressor:\n",
            "Erro Médio Quadrático (MSE): 27.474375236519233\n",
            "Coeficiente de Determinação (R^2): 0.9316970877914056\n"
          ]
        },
        {
          "output_type": "display_data",
          "data": {
            "text/plain": [
              "<Figure size 1600x600 with 2 Axes>"
            ],
            "image/png": "[encoded data removed]"
          },
          "metadata": {}
        }
      ]
    },
    {
      "cell_type": "markdown",
      "source": [
        "# **Referências**\n",
        "\n",
        "Referência do Projeto:\n",
        "\n",
        "Este projeto utilizou dados de registros de ocorrências e casos de pessoas desaparecidas para comparar modelos de Regressão Linear e Random Forest Regressor na previsão do número de desaparecimentos em municípios brasileiros. A Regressão Linear demonstrou uma precisão ligeiramente superior, destacando-se pela capacidade de explicar a variação nos dados com base nos registros de ocorrências.\n",
        "\n",
        "Notas de Aula da Faculdade Mackenzie (Curso de Ciência de Dados):\n",
        "\n",
        "O curso de Ciência de Dados na Faculdade Mackenzie ensina a aplicar modelos estatísticos e algoritmos de machine learning, como Regressão Linear e Random Forest, para análise preditiva em dados complexos. A avaliação criteriosa por meio de métricas como MSE e R² ajuda na escolha do modelo mais adequado para resolver problemas práticos, como o caso deste projeto."
      ],
      "metadata": {
        "id": "hc0rg9YSzRz9"
      }
    },
    {
      "cell_type": "markdown",
      "metadata": {
        "id": "8crUBC3IQ3U_"
      },
      "source": [
        "---"
      ]
    },
    {
      "cell_type": "code",
      "metadata": {
        "id": "BluFtfHuCGzm",
        "cellView": "form"
      },
      "source": [
        "#@title Avaliação\n",
        "Completo = 10 #@param {type:\"slider\", min:0, max:10, step:1}\n",
        "#@markdown Projeto cumpre todos os itens pedidos.\n",
        "Relevancia = 9 #@param {type:\"slider\", min:0, max:10, step:1}\n",
        "#@markdown As seleções de dados e eventos para análise são relevantes e justificados.\n",
        "Tecnicas = 6 #@param {type:\"slider\", min:0, max:10, step:1}\n",
        "#@markdown As técnicas de empregadas são adequadas e corretamente aplicadas.\n",
        "Apresentacao = 7 #@param {type:\"slider\", min:0, max:10, step:1}\n",
        "#@markdown A apresentação dos resultados é clara e objetiva.\n",
        "Analise = 8 #@param {type:\"slider\", min:0, max:10, step:1}\n",
        "#@markdown As premissas de análise se justificam e a analise é correta.\n",
        "Conclusao = 7 #@param {type:\"slider\", min:0, max:10, step:1}\n",
        "#@markdown As conclusões são justificadas e relevantes\n",
        "Bonus = 0.5 #@param {type:\"slider\", min:0, max:1, step:0.5}\n",
        "#@markdown A critério do professor por inovações na abordagem e no uso de técnicas de Análise de Dados\n",
        "\n",
        "\n",
        "\n",
        "\n",
        "\n",
        "\n"
      ],
      "execution_count": null,
      "outputs": []
    },
    {
      "cell_type": "code",
      "metadata": {
        "colab": {
          "base_uri": "https://localhost:8080/",
          "height": 148
        },
        "id": "2Gqw7hUZHyle",
        "cellView": "form",
        "outputId": "17dc9379-224b-4a07-e5c3-aa059ba434d8"
      },
      "source": [
        "#@markdown ### Nota Final\n",
        "nota = Completo + Relevancia + Tecnicas + Apresentacao + Analise + Conclusao\n",
        "\n",
        "nota = nota / 6 + Bonus\n",
        "\n",
        "print(f'Nota final do trabalho {nota :.1f}')\n",
        "\n",
        "import numpy as np\n",
        "import pandas as pd\n",
        "\n",
        "alunos = pd.DataFrame()\n",
        "\n",
        "lista_tia = []\n",
        "lista_nome = []\n",
        "\n",
        "for i in range(1,6):\n",
        "  exec(\"if Aluno\" + str(i) + \" !='None':  lista = Aluno\" + str(i) + \".split(','); lista_tia.append(lista[0]); lista_nome.append(lista[1].upper())\")\n",
        "\n",
        "alunos['tia'] = lista_tia\n",
        "alunos['nome'] = lista_nome\n",
        "alunos['nota'] = np.round(nota,1)\n",
        "print()\n",
        "alunos"
      ],
      "execution_count": null,
      "outputs": [
        {
          "output_type": "stream",
          "name": "stdout",
          "text": [
            "Nota final do trabalho 8.3\n",
            "\n"
          ]
        },
        {
          "output_type": "execute_result",
          "data": {
            "text/plain": [
              "       tia              nome  nota\n",
              "0  1115665    ADRIANA FUJITA   8.3\n",
              "1  1115677   DANIEL HENRIQUE   8.3"
            ],
            "text/html": [
              "\n",
              "  <div id=\"df-a9923eb4-545a-4f29-aa29-1fd106203b8f\">\n",
              "    <div class=\"colab-df-container\">\n",
              "      <div>\n",
              "<style scoped>\n",
              "    .dataframe tbody tr th:only-of-type {\n",
              "        vertical-align: middle;\n",
              "    }\n",
              "\n",
              "    .dataframe tbody tr th {\n",
              "        vertical-align: top;\n",
              "    }\n",
              "\n",
              "    .dataframe thead th {\n",
              "        text-align: right;\n",
              "    }\n",
              "</style>\n",
              "<table border=\"1\" class=\"dataframe\">\n",
              "  <thead>\n",
              "    <tr style=\"text-align: right;\">\n",
              "      <th></th>\n",
              "      <th>tia</th>\n",
              "      <th>nome</th>\n",
              "      <th>nota</th>\n",
              "    </tr>\n",
              "  </thead>\n",
              "  <tbody>\n",
              "    <tr>\n",
              "      <th>0</th>\n",
              "      <td>1115665</td>\n",
              "      <td>ADRIANA FUJITA</td>\n",
              "      <td>8.3</td>\n",
              "    </tr>\n",
              "    <tr>\n",
              "      <th>1</th>\n",
              "      <td>1115677</td>\n",
              "      <td>DANIEL HENRIQUE</td>\n",
              "      <td>8.3</td>\n",
              "    </tr>\n",
              "  </tbody>\n",
              "</table>\n",
              "</div>\n",
              "      <button class=\"colab-df-convert\" onclick=\"convertToInteractive('df-a9923eb4-545a-4f29-aa29-1fd106203b8f')\"\n",
              "              title=\"Convert this dataframe to an interactive table.\"\n",
              "              style=\"display:none;\">\n",
              "        \n",
              "  <svg xmlns=\"http://www.w3.org/2000/svg\" height=\"24px\"viewBox=\"0 0 24 24\"\n",
              "       width=\"24px\">\n",
              "    <path d=\"M0 0h24v24H0V0z\" fill=\"none\"/>\n",
              "    <path d=\"M18.56 5.44l.94 2.06.94-2.06 2.06-.94-2.06-.94-.94-2.06-.94 2.06-2.06.94zm-11 1L8.5 8.5l.94-2.06 2.06-.94-2.06-.94L8.5 2.5l-.94 2.06-2.06.94zm10 10l.94 2.06.94-2.06 2.06-.94-2.06-.94-.94-2.06-.94 2.06-2.06.94z\"/><path d=\"M17.41 7.96l-1.37-1.37c-.4-.4-.92-.59-1.43-.59-.52 0-1.04.2-1.43.59L10.3 9.45l-7.72 7.72c-.78.78-.78 2.05 0 2.83L4 21.41c.39.39.9.59 1.41.59.51 0 1.02-.2 1.41-.59l7.78-7.78 2.81-2.81c.8-.78.8-2.07 0-2.86zM5.41 20L4 18.59l7.72-7.72 1.47 1.35L5.41 20z\"/>\n",
              "  </svg>\n",
              "      </button>\n",
              "      \n",
              "  <style>\n",
              "    .colab-df-container {\n",
              "      display:flex;\n",
              "      flex-wrap:wrap;\n",
              "      gap: 12px;\n",
              "    }\n",
              "\n",
              "    .colab-df-convert {\n",
              "      background-color: #E8F0FE;\n",
              "      border: none;\n",
              "      border-radius: 50%;\n",
              "      cursor: pointer;\n",
              "      display: none;\n",
              "      fill: #1967D2;\n",
              "      height: 32px;\n",
              "      padding: 0 0 0 0;\n",
              "      width: 32px;\n",
              "    }\n",
              "\n",
              "    .colab-df-convert:hover {\n",
              "      background-color: #E2EBFA;\n",
              "      box-shadow: 0px 1px 2px rgba(60, 64, 67, 0.3), 0px 1px 3px 1px rgba(60, 64, 67, 0.15);\n",
              "      fill: #174EA6;\n",
              "    }\n",
              "\n",
              "    [theme=dark] .colab-df-convert {\n",
              "      background-color: #3B4455;\n",
              "      fill: #D2E3FC;\n",
              "    }\n",
              "\n",
              "    [theme=dark] .colab-df-convert:hover {\n",
              "      background-color: #434B5C;\n",
              "      box-shadow: 0px 1px 3px 1px rgba(0, 0, 0, 0.15);\n",
              "      filter: drop-shadow(0px 1px 2px rgba(0, 0, 0, 0.3));\n",
              "      fill: #FFFFFF;\n",
              "    }\n",
              "  </style>\n",
              "\n",
              "      <script>\n",
              "        const buttonEl =\n",
              "          document.querySelector('#df-a9923eb4-545a-4f29-aa29-1fd106203b8f button.colab-df-convert');\n",
              "        buttonEl.style.display =\n",
              "          google.colab.kernel.accessAllowed ? 'block' : 'none';\n",
              "\n",
              "        async function convertToInteractive(key) {\n",
              "          const element = document.querySelector('#df-a9923eb4-545a-4f29-aa29-1fd106203b8f');\n",
              "          const dataTable =\n",
              "            await google.colab.kernel.invokeFunction('convertToInteractive',\n",
              "                                                     [key], {});\n",
              "          if (!dataTable) return;\n",
              "\n",
              "          const docLinkHtml = 'Like what you see? Visit the ' +\n",
              "            '<a target=\"_blank\" href=https://colab.research.google.com/notebooks/data_table.ipynb>data table notebook</a>'\n",
              "            + ' to learn more about interactive tables.';\n",
              "          element.innerHTML = '';\n",
              "          dataTable['output_type'] = 'display_data';\n",
              "          await google.colab.output.renderOutput(dataTable, element);\n",
              "          const docLink = document.createElement('div');\n",
              "          docLink.innerHTML = docLinkHtml;\n",
              "          element.appendChild(docLink);\n",
              "        }\n",
              "      </script>\n",
              "    </div>\n",
              "  </div>\n",
              "  "
            ]
          },
          "metadata": {},
          "execution_count": 23
        }
      ]
    }
  ]
}